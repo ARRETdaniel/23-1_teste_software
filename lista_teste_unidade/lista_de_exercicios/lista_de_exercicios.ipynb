{
 "cells": [
  {
   "attachments": {},
   "cell_type": "markdown",
   "metadata": {},
   "source": [
    "# Lista de exercicios\n",
    "\n",
    "## Goals\n",
    "In this lab, you will:\n",
    "  - Utilizando a sua linguagem favorita resolva a lista em anexo e crie testes para cada exericicio usando as ferramentas estudadas por vocês. O trabalho é individual e vai valer ponto.\n",
    "  Tentem fazer por vocês mesmo sem copiar ou usar o ChatGPT. Uma vez, que o bom uso das ferramentas de testes poderá impactar o futuro profissional de vocês.\n",
    "Experimente em fazer os casos de testes antes de fazer o exercicio.\n"
   ]
  },
  {
   "attachments": {},
   "cell_type": "markdown",
   "metadata": {},
   "source": [
    "# Testes de unidade\n",
    "\n"
   ]
  },
  {
   "cell_type": "code",
   "execution_count": 1,
   "metadata": {},
   "outputs": [],
   "source": [
    "from utilidades.utils import *\n"
   ]
  },
  {
   "attachments": {},
   "cell_type": "markdown",
   "metadata": {},
   "source": [
    "### 1. Faca um programa que entao leia uma string e a imprima. ˜"
   ]
  },
  {
   "cell_type": "code",
   "execution_count": 2,
   "metadata": {},
   "outputs": [
    {
     "name": "stdout",
     "output_type": "stream",
     "text": [
      "ababa01\n"
     ]
    }
   ],
   "source": [
    "# Programa principal\n",
    "n1 = read_and_print_string()\n",
    "\n"
   ]
  },
  {
   "cell_type": "code",
   "execution_count": 3,
   "metadata": {},
   "outputs": [
    {
     "name": "stdout",
     "output_type": "stream",
     "text": [
      "<class 'str'>\n"
     ]
    }
   ],
   "source": [
    "print(type(n1))"
   ]
  },
  {
   "attachments": {},
   "cell_type": "markdown",
   "metadata": {},
   "source": [
    "### 2. Crie um programa que imprima o comprimento de uma string\n"
   ]
  },
  {
   "cell_type": "code",
   "execution_count": 4,
   "metadata": {},
   "outputs": [
    {
     "name": "stdout",
     "output_type": "stream",
     "text": [
      "tamanho da string: 7\n"
     ]
    }
   ],
   "source": [
    "# Programa Principal\n",
    "length = get_string_length(n1)\n",
    "print(\"tamanho da string:\", length)\n"
   ]
  },
  {
   "attachments": {},
   "cell_type": "markdown",
   "metadata": {},
   "source": [
    "### 3. Faça um programa que conte o numero de 1’s que aparecem em um string. Exemplo: ´0011001 -> 3"
   ]
  },
  {
   "cell_type": "code",
   "execution_count": 6,
   "metadata": {},
   "outputs": [
    {
     "name": "stdout",
     "output_type": "stream",
     "text": [
      "1\n"
     ]
    }
   ],
   "source": [
    "num_uns = count_ones(n1)\n",
    "print(num_uns)"
   ]
  },
  {
   "attachments": {},
   "cell_type": "markdown",
   "metadata": {},
   "source": [
    "### 4. Entre com um nome e imprima o nome somente se a primeira letra do nome for “a”\n",
    "(maiuscula ou minúscula).\n"
   ]
  },
  {
   "cell_type": "code",
   "execution_count": 12,
   "metadata": {},
   "outputs": [
    {
     "name": "stdout",
     "output_type": "stream",
     "text": [
      "aline\n",
      "Alice\n"
     ]
    }
   ],
   "source": [
    "import csv\n",
    "# List of names to be written to the CSV file\n",
    "names = [\"aline\", \"John\", \"Jane\", \"Bob\", \"Alice\", \"Mark\"]\n",
    "\n",
    "# Name of the output CSV file\n",
    "output_file = \"names.csv\"\n",
    "\n",
    "# Write names to the CSV file\n",
    "with open(output_file, mode='w', newline='') as csv_file:\n",
    "    writer = csv.writer(csv_file)\n",
    "    writer.writerow(['Names'])\n",
    "    for name in names:\n",
    "        writer.writerow([name])\n",
    "\n",
    "with open('names.csv', 'r') as csvfile:\n",
    "    reader = csv.reader(csvfile)\n",
    "    for row in reader:\n",
    "        print_name_if_starts_with_a(row[0])\n"
   ]
  },
  {
   "attachments": {},
   "cell_type": "markdown",
   "metadata": {},
   "source": [
    "### 5. Leia um vetor contendo letras de uma frase inclusive os espaços em branco. Retirar os espaços em branco do vetor e depois escrever o vetor resultante."
   ]
  },
  {
   "cell_type": "code",
   "execution_count": 10,
   "metadata": {},
   "outputs": [
    {
     "name": "stdout",
     "output_type": "stream",
     "text": [
      "['a', 'a', '\\n', 'A', 'l', 'e', 'r', 't', 'a', '\\n', '!', '2', '3', '4', 'L', 'e', 'i', 'a', 'u', 'm', 'v', 'e', 't', 'o', 'r', 'c', 'o', 'n', 't', 'e', 'n', 'd', 'o', 'l', 'e', 't', 'r', 'a', 's', 'd', 'e', 'u', 'm', 'a', 'f', 'r', 'a', 's', 'e', 'i', 'n', 'c', 'l', 'u', 's', 'i', 'v', 'e', 'o', 's', 'e', 's', 'p', 'a', 'ç', 'o', 's', 'e', 'm', 'b', 'r', 'a', 'n', 'c', 'o', '.', 'R', 'e', 't', 'i', 'r', 'a', 'r', 'o', 's', 'e', 's', 'p', 'a', 'ç', 'o', 's', 'e', 'm', 'b', 'r', 'a', 'n', 'c', 'o', 'd', 'o', 'v', 'e', 't', 'o', 'r', 'e', 'd', 'e', 'p', 'o', 'i', 's', 'e', 's', 'c', 'r', 'e', 'v', 'e', 'r', 'o', 'v', 'e', 't', 'o', 'r', 'r', 'e', 's', 'u', 'l', 't', 'a', 'n', 't', 'e', '.']\n"
     ]
    }
   ],
   "source": [
    "# Prompt user for the phrase\n",
    "my_list = [\"aa\",\"Alerta \\n ! 2 3 4 Leia um vetor contendo letras de uma frase inclusive os espaços em branco. Retirar os espaços em branco do vetor e depois escrever o vetor resultante.\"]\n",
    "\n",
    "# Create a new file and write the phrase to it\n",
    "with open(\"phrase.txt\", \"w\") as file:\n",
    "    for item in my_list:\n",
    "        file.write(str(item) + \"\\n\")\n",
    "\n",
    "with open('phrase.txt', 'r') as f:\n",
    "    phraseFile = f.read().strip()\n",
    "\n",
    "result = remove_spaces(phraseFile)\n",
    "print(result)"
   ]
  },
  {
   "attachments": {},
   "cell_type": "markdown",
   "metadata": {},
   "source": [
    "### 6. Escreva um programa que leia a idade e o primeiro nome de varias pessoas. Seu programa deve terminar quando uma idade negativa for digitada. Ao terminar, seu programa deve escrever o nome e a idade das pessoas mais jovens e mais velhas."
   ]
  },
  {
   "cell_type": "code",
   "execution_count": 3,
   "metadata": {},
   "outputs": [
    {
     "name": "stdout",
     "output_type": "stream",
     "text": [
      "alice: 25\n",
      "bob: 35\n"
     ]
    }
   ],
   "source": [
    "data = read_input()\n",
    "sorted_data = sort_data(data)\n",
    "for row in sorted_data:\n",
    "        print(f\"{row[0]}: {row[1]}\")"
   ]
  },
  {
   "attachments": {},
   "cell_type": "markdown",
   "metadata": {},
   "source": [
    "### 7. Faça um programa que preencha um vetor com os modelos de cinco carros (exemplos de modelos: Fusca, Gol, Vectra, etc.). Preencha outro vetor com o consumo desses carros, isto e, quantos quilômetros cada um deles faz com um litro de combustível. Calcule e mostre:\n",
    "- (a) O modelo de carro mais economico;\n",
    "- (b) Quantos litros de combustível cada um dos carros cadastrados consomem para percorrer uma distancia de 1.000 quilômetros.\n"
   ]
  },
  {
   "cell_type": "code",
   "execution_count": 3,
   "metadata": {},
   "outputs": [
    {
     "name": "stdout",
     "output_type": "stream",
     "text": [
      "Nome :fff. consumo: 5.0. consumo 1000km: 5000.0\n",
      "Nome :aaaa. consumo: 33.0. consumo 1000km: 33000.0\n"
     ]
    },
    {
     "data": {
      "text/plain": [
       "[('fff', 5.0, 5000.0), ('aaaa', 33.0, 33000.0)]"
      ]
     },
     "execution_count": 3,
     "metadata": {},
     "output_type": "execute_result"
    }
   ],
   "source": [
    "data = car_consumption()\n",
    "for row in data:\n",
    "    print(f\"Nome :{row[0]}. consumo: {row[1]}. consumo 1000km: {row[2]}\")\n",
    "data"
   ]
  },
  {
   "cell_type": "markdown",
   "metadata": {},
   "source": []
  }
 ],
 "metadata": {
  "kernelspec": {
   "display_name": "base",
   "language": "python",
   "name": "python3"
  },
  "language_info": {
   "codemirror_mode": {
    "name": "ipython",
    "version": 3
   },
   "file_extension": ".py",
   "mimetype": "text/x-python",
   "name": "python",
   "nbconvert_exporter": "python",
   "pygments_lexer": "ipython3",
   "version": "3.9.12"
  },
  "orig_nbformat": 4
 },
 "nbformat": 4,
 "nbformat_minor": 2
}
