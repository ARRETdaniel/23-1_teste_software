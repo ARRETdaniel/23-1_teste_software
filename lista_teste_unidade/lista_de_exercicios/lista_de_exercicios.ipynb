{
 "cells": [
  {
   "attachments": {},
   "cell_type": "markdown",
   "metadata": {},
   "source": [
    "# Lista de exercicios\n",
    "\n",
    "## Goals\n",
    "In this lab, you will:\n",
    "  - Utilizando a sua linguagem favorita resolva a lista em anexo e crie testes para cada exericicio usando as ferramentas estudadas por vocês. O trabalho é individual e vai valer ponto.\n",
    "  Tentem fazer por vocês mesmo sem copiar ou usar o ChatGPT. Uma vez, que o bom uso das ferramentas de testes poderá impactar o futuro profissional de vocês.\n",
    "Experimente em fazer os casos de testes antes de fazer o exercicio.\n"
   ]
  },
  {
   "attachments": {},
   "cell_type": "markdown",
   "metadata": {},
   "source": [
    "# Testes de unidade\n",
    "\n"
   ]
  },
  {
   "cell_type": "code",
   "execution_count": 1,
   "metadata": {},
   "outputs": [],
   "source": [
    "from utilidades.utils import *\n"
   ]
  },
  {
   "attachments": {},
   "cell_type": "markdown",
   "metadata": {},
   "source": [
    "### 1. Faca um programa que entao leia uma string e a imprima. ˜"
   ]
  },
  {
   "cell_type": "code",
   "execution_count": 2,
   "metadata": {},
   "outputs": [
    {
     "name": "stdout",
     "output_type": "stream",
     "text": [
      "ababa01\n"
     ]
    }
   ],
   "source": [
    "# Programa principal\n",
    "n1 = read_and_print_string()\n",
    "\n"
   ]
  },
  {
   "cell_type": "code",
   "execution_count": 3,
   "metadata": {},
   "outputs": [
    {
     "name": "stdout",
     "output_type": "stream",
     "text": [
      "<class 'str'>\n"
     ]
    }
   ],
   "source": [
    "print(type(n1))"
   ]
  },
  {
   "attachments": {},
   "cell_type": "markdown",
   "metadata": {},
   "source": [
    "### 2. Crie um programa que imprima o comprimento de uma string\n"
   ]
  },
  {
   "cell_type": "code",
   "execution_count": 4,
   "metadata": {},
   "outputs": [
    {
     "name": "stdout",
     "output_type": "stream",
     "text": [
      "tamanho da string: 7\n"
     ]
    }
   ],
   "source": [
    "# Programa Principal\n",
    "length = get_string_length(n1)\n",
    "print(\"tamanho da string:\", length)\n"
   ]
  },
  {
   "attachments": {},
   "cell_type": "markdown",
   "metadata": {},
   "source": [
    "### 3. Faça um programa que conte o numero de 1’s que aparecem em um string. Exemplo: ´0011001 -> 3"
   ]
  },
  {
   "cell_type": "code",
   "execution_count": 6,
   "metadata": {},
   "outputs": [
    {
     "name": "stdout",
     "output_type": "stream",
     "text": [
      "1\n"
     ]
    }
   ],
   "source": [
    "num_uns = count_ones(n1)\n",
    "print(num_uns)"
   ]
  },
  {
   "attachments": {},
   "cell_type": "markdown",
   "metadata": {},
   "source": [
    "### 4. Entre com um nome e imprima o nome somente se a primeira letra do nome for “a”\n",
    "(maiuscula ou minúscula).\n"
   ]
  },
  {
   "cell_type": "code",
   "execution_count": 12,
   "metadata": {},
   "outputs": [
    {
     "name": "stdout",
     "output_type": "stream",
     "text": [
      "aline\n",
      "Alice\n"
     ]
    }
   ],
   "source": [
    "import csv\n",
    "# List of names to be written to the CSV file\n",
    "names = [\"aline\", \"John\", \"Jane\", \"Bob\", \"Alice\", \"Mark\"]\n",
    "\n",
    "# Name of the output CSV file\n",
    "output_file = \"names.csv\"\n",
    "\n",
    "# Write names to the CSV file\n",
    "with open(output_file, mode='w', newline='') as csv_file:\n",
    "    writer = csv.writer(csv_file)\n",
    "    writer.writerow(['Names'])\n",
    "    for name in names:\n",
    "        writer.writerow([name])\n",
    "\n",
    "with open('names.csv', 'r') as csvfile:\n",
    "    reader = csv.reader(csvfile)\n",
    "    for row in reader:\n",
    "        print_name_if_starts_with_a(row[0])\n"
   ]
  },
  {
   "attachments": {},
   "cell_type": "markdown",
   "metadata": {},
   "source": [
    "### 5. Leia um vetor contendo letras de uma frase inclusive os espaços em branco. Retirar os espaços em branco do vetor e depois escrever o vetor resultante."
   ]
  },
  {
   "cell_type": "code",
   "execution_count": 10,
   "metadata": {},
   "outputs": [
    {
     "name": "stdout",
     "output_type": "stream",
     "text": [
      "['a', 'a', '\\n', 'A', 'l', 'e', 'r', 't', 'a', '\\n', '!', '2', '3', '4', 'L', 'e', 'i', 'a', 'u', 'm', 'v', 'e', 't', 'o', 'r', 'c', 'o', 'n', 't', 'e', 'n', 'd', 'o', 'l', 'e', 't', 'r', 'a', 's', 'd', 'e', 'u', 'm', 'a', 'f', 'r', 'a', 's', 'e', 'i', 'n', 'c', 'l', 'u', 's', 'i', 'v', 'e', 'o', 's', 'e', 's', 'p', 'a', 'ç', 'o', 's', 'e', 'm', 'b', 'r', 'a', 'n', 'c', 'o', '.', 'R', 'e', 't', 'i', 'r', 'a', 'r', 'o', 's', 'e', 's', 'p', 'a', 'ç', 'o', 's', 'e', 'm', 'b', 'r', 'a', 'n', 'c', 'o', 'd', 'o', 'v', 'e', 't', 'o', 'r', 'e', 'd', 'e', 'p', 'o', 'i', 's', 'e', 's', 'c', 'r', 'e', 'v', 'e', 'r', 'o', 'v', 'e', 't', 'o', 'r', 'r', 'e', 's', 'u', 'l', 't', 'a', 'n', 't', 'e', '.']\n"
     ]
    }
   ],
   "source": [
    "# Prompt user for the phrase\n",
    "my_list = [\"aa\",\"Alerta \\n ! 2 3 4 Leia um vetor contendo letras de uma frase inclusive os espaços em branco. Retirar os espaços em branco do vetor e depois escrever o vetor resultante.\"]\n",
    "\n",
    "# Create a new file and write the phrase to it\n",
    "with open(\"phrase.txt\", \"w\") as file:\n",
    "    for item in my_list:\n",
    "        file.write(str(item) + \"\\n\")\n",
    "\n",
    "with open('phrase.txt', 'r') as f:\n",
    "    phraseFile = f.read().strip()\n",
    "\n",
    "result = remove_spaces(phraseFile)\n",
    "print(result)"
   ]
  },
  {
   "attachments": {},
   "cell_type": "markdown",
   "metadata": {},
   "source": [
    "### 6. Escreva um programa que leia a idade e o primeiro nome de varias pessoas. Seu programa deve terminar quando uma idade negativa for digitada. Ao terminar, seu programa deve escrever o nome e a idade das pessoas mais jovens e mais velhas."
   ]
  },
  {
   "cell_type": "code",
   "execution_count": 3,
   "metadata": {},
   "outputs": [
    {
     "name": "stdout",
     "output_type": "stream",
     "text": [
      "alice: 25\n",
      "bob: 35\n"
     ]
    }
   ],
   "source": [
    "data = read_input()\n",
    "sorted_data = sort_data(data)\n",
    "for row in sorted_data:\n",
    "        print(f\"{row[0]}: {row[1]}\")"
   ]
  },
  {
   "attachments": {},
   "cell_type": "markdown",
   "metadata": {},
   "source": [
    "### 7. Faça um programa que preencha um vetor com os modelos de cinco carros (exemplos de modelos: Fusca, Gol, Vectra, etc.). Preencha outro vetor com o consumo desses carros, isto e, quantos quilômetros cada um deles faz com um litro de combustível. Calcule e mostre:\n",
    "- (a) O modelo de carro mais economico;\n",
    "- (b) Quantos litros de combustível cada um dos carros cadastrados consomem para percorrer uma distancia de 1.000 quilômetros.\n"
   ]
  },
  {
   "cell_type": "code",
   "execution_count": 3,
   "metadata": {},
   "outputs": [
    {
     "name": "stdout",
     "output_type": "stream",
     "text": [
      "Nome :fff. consumo: 5.0. consumo 1000km: 5000.0\n",
      "Nome :aaaa. consumo: 33.0. consumo 1000km: 33000.0\n"
     ]
    },
    {
     "data": {
      "text/plain": [
       "[('fff', 5.0, 5000.0), ('aaaa', 33.0, 33000.0)]"
      ]
     },
     "execution_count": 3,
     "metadata": {},
     "output_type": "execute_result"
    }
   ],
   "source": [
    "data = car_consumption()\n",
    "for row in data:\n",
    "    print(f\"Nome :{row[0]}. consumo: {row[1]}. consumo 1000km: {row[2]}\")\n",
    "data"
   ]
  },
  {
   "attachments": {},
   "cell_type": "markdown",
   "metadata": {},
   "source": [
    "### 8. Faça um programa que contenha um menu com as seguintes opções: \n",
    "  - (a) Ler uma string S1 (tamanho maximo 20 caracteres); \n",
    "  - (b) Imprimir o tamanho da string S1;\n",
    "  - (c) Comparar a string S1 com uma nova string S2 fornecida pelo usuario e imprimir o resultado da comparação; \n",
    "  - (d) Concatenar a string S1 com uma nova string S2 e imprimir na tela o resultado da concatenação; \n",
    "  - (e) Imprimir a string S1 de forma reversa;\n",
    "  - (f) Contar quantas vezes um dado caractere aparece na string S1. Esse caractere desse ser informado pelo usuario; \n",
    "  - (g) Substituir a primeira ocorrencia do caractere C1 da string S1 pelo caractere C2. Os caracteres C1 e C2 serao lidos pelo usuário; ´\n",
    "  - (h) Verificar se uma string S2 e substring de S1. A string S2 deve ser informada pelo usuario;\n",
    "  - (i) Retornar uma substring da string S1. Para isso o usuario deve informar a partir de qual posição deve ser criada a substring e qual é o tamanho da substring. \n"
   ]
  },
  {
   "cell_type": "code",
   "execution_count": 2,
   "metadata": {},
   "outputs": [
    {
     "name": "stdout",
     "output_type": "stream",
     "text": [
      "Escolha uma opção:\n",
      "(a) Ler uma string S1\n",
      "(b) Imprimir o tamanho da string S1\n",
      "(c) Comparar a string S1 com uma nova string S2\n",
      "(d) Concatenar a string S1 com uma nova string S2\n",
      "(e) Imprimir a string S1 de forma reversa\n",
      "(f) Contar quantas vezes um dado caractere aparece na string S1\n",
      "(g) Substituir a primeira ocorrencia do caractere C1 da string S1 pelo caractere C2\n",
      "(h) Verificar se uma string S2 é substring de S1\n",
      "(i) Retornar uma substring da string S1\n",
      "(q) Sair\n",
      "As strings são diferentes.\n",
      "Escolha uma opção:\n",
      "(a) Ler uma string S1\n",
      "(b) Imprimir o tamanho da string S1\n",
      "(c) Comparar a string S1 com uma nova string S2\n",
      "(d) Concatenar a string S1 com uma nova string S2\n",
      "(e) Imprimir a string S1 de forma reversa\n",
      "(f) Contar quantas vezes um dado caractere aparece na string S1\n",
      "(g) Substituir a primeira ocorrencia do caractere C1 da string S1 pelo caractere C2\n",
      "(h) Verificar se uma string S2 é substring de S1\n",
      "(i) Retornar uma substring da string S1\n",
      "(q) Sair\n"
     ]
    },
    {
     "ename": "ValueError",
     "evalue": "invalid literal for int() with base 10: 'aaaaaaaa'",
     "output_type": "error",
     "traceback": [
      "\u001b[1;31m---------------------------------------------------------------------------\u001b[0m",
      "\u001b[1;31mValueError\u001b[0m                                Traceback (most recent call last)",
      "\u001b[1;32mc:\\Users\\danie\\Documents\\Documents\\Faculdade\\23-1_teste_software\\lista_teste_unidade\\lista_de_exercicios\\lista_de_exercicios.ipynb Cell 20\u001b[0m in \u001b[0;36m<cell line: 5>\u001b[1;34m()\u001b[0m\n\u001b[0;32m     <a href='vscode-notebook-cell:/c%3A/Users/danie/Documents/Documents/Faculdade/23-1_teste_software/lista_teste_unidade/lista_de_exercicios/lista_de_exercicios.ipynb#X26sZmlsZQ%3D%3D?line=28'>29</a>\u001b[0m \u001b[39melif\u001b[39;00m option \u001b[39m==\u001b[39m \u001b[39m\"\u001b[39m\u001b[39mi\u001b[39m\u001b[39m\"\u001b[39m:\n\u001b[0;32m     <a href='vscode-notebook-cell:/c%3A/Users/danie/Documents/Documents/Faculdade/23-1_teste_software/lista_teste_unidade/lista_de_exercicios/lista_de_exercicios.ipynb#X26sZmlsZQ%3D%3D?line=29'>30</a>\u001b[0m     start \u001b[39m=\u001b[39m \u001b[39mint\u001b[39m(\u001b[39minput\u001b[39m(\u001b[39m\"\u001b[39m\u001b[39mDigite a posição inicial da substring: \u001b[39m\u001b[39m\"\u001b[39m))\n\u001b[1;32m---> <a href='vscode-notebook-cell:/c%3A/Users/danie/Documents/Documents/Faculdade/23-1_teste_software/lista_teste_unidade/lista_de_exercicios/lista_de_exercicios.ipynb#X26sZmlsZQ%3D%3D?line=30'>31</a>\u001b[0m     length \u001b[39m=\u001b[39m \u001b[39mint\u001b[39;49m(\u001b[39minput\u001b[39;49m(\u001b[39m\"\u001b[39;49m\u001b[39mDigite o tamanho da substring: \u001b[39;49m\u001b[39m\"\u001b[39;49m))\n\u001b[0;32m     <a href='vscode-notebook-cell:/c%3A/Users/danie/Documents/Documents/Faculdade/23-1_teste_software/lista_teste_unidade/lista_de_exercicios/lista_de_exercicios.ipynb#X26sZmlsZQ%3D%3D?line=31'>32</a>\u001b[0m     get_substring(s1, start, length)\n\u001b[0;32m     <a href='vscode-notebook-cell:/c%3A/Users/danie/Documents/Documents/Faculdade/23-1_teste_software/lista_teste_unidade/lista_de_exercicios/lista_de_exercicios.ipynb#X26sZmlsZQ%3D%3D?line=32'>33</a>\u001b[0m \u001b[39melif\u001b[39;00m option \u001b[39m==\u001b[39m \u001b[39m\"\u001b[39m\u001b[39mq\u001b[39m\u001b[39m\"\u001b[39m:\n",
      "\u001b[1;31mValueError\u001b[0m: invalid literal for int() with base 10: 'aaaaaaaa'"
     ]
    }
   ],
   "source": [
    "from utilidades.utils import *\n",
    "\n",
    "s1 = \"\"\n",
    "while True:\n",
    "    show_menu()\n",
    "    option = input()\n",
    "    if option == \"a\":\n",
    "        s1 = read_string()\n",
    "    elif option == \"b\":\n",
    "        print_string_length(s1)\n",
    "    elif option == \"c\":\n",
    "        s2 = input(\"Digite a segunda string: \")\n",
    "        compare_strings(s1, s2)\n",
    "    elif option == \"d\":\n",
    "        s2 = input(\"Digite a segunda string: \")\n",
    "        concatenate_strings(s1, s2)\n",
    "    elif option == \"e\":\n",
    "        reverse_string(s1)\n",
    "    elif option == \"f\":\n",
    "        c = input(\"Digite o caractere: \")\n",
    "        count_character(s1, c)\n",
    "    elif option == \"g\":\n",
    "        c1 = input(\"Digite o caractere a ser substituído: \")\n",
    "        c2 = input(\"Digite o novo caractere: \")\n",
    "        replace_character(s1, c1, c2)\n",
    "    elif option == \"h\":\n",
    "        s2 = input(\"Digite a segunda string: \")\n",
    "        is_substring(s1, s2)\n",
    "    elif option == \"i\":\n",
    "        start = int(input(\"Digite a posição inicial da substring: \"))\n",
    "        length = int(input(\"Digite o tamanho da substring: \"))\n",
    "        get_substring(s1, start, length)\n",
    "    elif option == \"q\":\n",
    "        break\n",
    "    else:\n",
    "        print(\"Opção inválida. Tente novamente.\")"
   ]
  },
  {
   "attachments": {},
   "cell_type": "markdown",
   "metadata": {},
   "source": [
    "### 9. Faça um programa de agenda telefônica, com  as classes Agenda e Contato.\n"
   ]
  },
  {
   "cell_type": "code",
   "execution_count": null,
   "metadata": {},
   "outputs": [],
   "source": [
    "from utilidades.utils import *\n",
    "\n",
    "if __name__ == \"__main__\":\n",
    "    phonebook = Phonebook()\n",
    "    while True:\n",
    "        print(\"Select an option:\")\n",
    "        print(\"1. Add contact\")\n",
    "        print(\"2. Search contact\")\n",
    "        print(\"3. Remove contact\")\n",
    "        print(\"4. Exit\")\n",
    "        choice = input(\"Enter choice (1-4): \")\n",
    "        if choice == \"1\":\n",
    "            name = input(\"Enter name: \")\n",
    "            phone_number = input(\"Enter phone number: \")\n",
    "            phonebook.add_contact(name, phone_number)\n",
    "            print(\"Contact added.\")\n",
    "        elif choice == \"2\":\n",
    "            name = input(\"Enter name: \")\n",
    "            contact = phonebook.search_contact(name)\n",
    "            if contact:\n",
    "                print(f\"Phone number: {contact.phone_number}\")\n",
    "            else:\n",
    "                print(\"Contact not found.\")\n",
    "        elif choice == \"3\":\n",
    "            name = input(\"Enter name: \")\n",
    "            if phonebook.remove_contact(name):\n",
    "                print(\"Contact removed.\")\n",
    "            else:\n",
    "                print(\"Contact not found.\")\n",
    "        elif choice == \"4\":\n",
    "            break\n",
    "        else:\n",
    "            print(\"Invalid choice.\")\n"
   ]
  },
  {
   "attachments": {},
   "cell_type": "markdown",
   "metadata": {},
   "source": [
    "### 10. Faça  um programa para controle de empréstimo de livros, com as classes Emprestimo, Livro e Pessoa."
   ]
  },
  {
   "cell_type": "code",
   "execution_count": 1,
   "metadata": {},
   "outputs": [
    {
     "name": "stdout",
     "output_type": "stream",
     "text": [
      "Loan details:\n",
      "Person: Alice\n",
      "Book: The Great Gatsby\n",
      "Date borrowed: 2023-04-18\n",
      "Date returned: 2023-04-25\n"
     ]
    }
   ],
   "source": [
    "from utilidades.utils import *\n",
    "\n",
    "# Create a person\n",
    "person1 = Person(\"Alice\", \"alice@example.com\")\n",
    "\n",
    "# Create a book\n",
    "book1 = Book(\"The Great Gatsby\", \"F. Scott Fitzgerald\", \"9780141182636\")\n",
    "\n",
    "# Create a loan\n",
    "loan1 = Loan(person1, book1, \"2023-04-18\")\n",
    "\n",
    "# Return the book\n",
    "loan1.return_book(\"2023-04-25\")\n",
    "\n",
    "# Print the loan details\n",
    "print(f\"Loan details:\\nPerson: {loan1.person.name}\\nBook: {loan1.book.title}\\nDate borrowed: {loan1.date_borrowed}\\nDate returned: {loan1.date_returned}\")\n"
   ]
  },
  {
   "attachments": {},
   "cell_type": "markdown",
   "metadata": {},
   "source": [
    "### 11. Faça uma programa para representar a árvore genealógica de uma família. Para tal, crie uma classe Pessoa que permita indicar, além de nome e idade, o pai e a mãe. Tenha em mente que pai e mãe também são do tipo Pessoa."
   ]
  },
  {
   "cell_type": "code",
   "execution_count": null,
   "metadata": {},
   "outputs": [],
   "source": []
  },
  {
   "attachments": {},
   "cell_type": "markdown",
   "metadata": {},
   "source": [
    "### *Para as questões 9 a 11, crie uma interface texto que utilize tratamento de exceções no caso de execução de comandos inválidos\n"
   ]
  },
  {
   "cell_type": "markdown",
   "metadata": {},
   "source": []
  }
 ],
 "metadata": {
  "kernelspec": {
   "display_name": "base",
   "language": "python",
   "name": "python3"
  },
  "language_info": {
   "codemirror_mode": {
    "name": "ipython",
    "version": 3
   },
   "file_extension": ".py",
   "mimetype": "text/x-python",
   "name": "python",
   "nbconvert_exporter": "python",
   "pygments_lexer": "ipython3",
   "version": "3.9.12"
  },
  "orig_nbformat": 4
 },
 "nbformat": 4,
 "nbformat_minor": 2
}
